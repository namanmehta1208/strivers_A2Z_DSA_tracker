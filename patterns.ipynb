{
  "nbformat": 4,
  "nbformat_minor": 0,
  "metadata": {
    "colab": {
      "provenance": [],
      "authorship_tag": "ABX9TyObk82w4Bji4Riemqk/sAZy",
      "include_colab_link": true
    },
    "kernelspec": {
      "name": "python3",
      "display_name": "Python 3"
    },
    "language_info": {
      "name": "python"
    }
  },
  "cells": [
    {
      "cell_type": "markdown",
      "metadata": {
        "id": "view-in-github",
        "colab_type": "text"
      },
      "source": [
        "<a href=\"https://colab.research.google.com/github/namanmehta1208/strivers_A2Z_DSA_tracker/blob/main/patterns.ipynb\" target=\"_parent\"><img src=\"https://colab.research.google.com/assets/colab-badge.svg\" alt=\"Open In Colab\"/></a>"
      ]
    },
    {
      "cell_type": "code",
      "execution_count": 38,
      "metadata": {
        "id": "okXJjjnX-D_0"
      },
      "outputs": [],
      "source": [
        "# 1\n",
        "\n",
        "def patternNumber1(n):\n",
        "  for x in range(1, n + 1):\n",
        "    for y in range(1, n + 1):\n",
        "      print(\"*\", end='')\n",
        "\n",
        "    print('')"
      ]
    },
    {
      "cell_type": "code",
      "source": [
        "patternNumber1(5)"
      ],
      "metadata": {
        "colab": {
          "base_uri": "https://localhost:8080/"
        },
        "id": "M2t2ZgLh-odF",
        "outputId": "9b9cb7e1-73a3-4b68-a3fa-c110ac60389e"
      },
      "execution_count": 39,
      "outputs": [
        {
          "output_type": "stream",
          "name": "stdout",
          "text": [
            "*****\n",
            "*****\n",
            "*****\n",
            "*****\n",
            "*****\n"
          ]
        }
      ]
    },
    {
      "cell_type": "code",
      "source": [
        "# 2\n",
        "\n",
        "def patternNumber2(n):\n",
        "  for x in range(1, n + 1):\n",
        "    for y in range(1, x + 1):\n",
        "      print(\"*\", end = '')\n",
        "\n",
        "    print('')"
      ],
      "metadata": {
        "id": "E7m9LDeM_Sys"
      },
      "execution_count": 44,
      "outputs": []
    },
    {
      "cell_type": "code",
      "source": [
        "patternNumber2(5)"
      ],
      "metadata": {
        "colab": {
          "base_uri": "https://localhost:8080/"
        },
        "id": "hminEiMc_x4A",
        "outputId": "3b88117e-3d17-4b87-a765-a577231336d8"
      },
      "execution_count": 45,
      "outputs": [
        {
          "output_type": "stream",
          "name": "stdout",
          "text": [
            "*\n",
            "**\n",
            "***\n",
            "****\n",
            "*****\n"
          ]
        }
      ]
    },
    {
      "cell_type": "code",
      "source": [
        "# 3\n",
        "\n",
        "def patternNumber3(n):\n",
        "  for x in range(1, n + 1):\n",
        "    for y in range(1, x + 1):\n",
        "      print(y, end = '')\n",
        "\n",
        "    print('')"
      ],
      "metadata": {
        "id": "elilJk64_7SQ"
      },
      "execution_count": 46,
      "outputs": []
    },
    {
      "cell_type": "code",
      "source": [
        "patternNumber3(5)"
      ],
      "metadata": {
        "colab": {
          "base_uri": "https://localhost:8080/"
        },
        "id": "xfej9Q2BABnN",
        "outputId": "a9cf8396-ace5-4347-ef29-184a57730b2f"
      },
      "execution_count": 47,
      "outputs": [
        {
          "output_type": "stream",
          "name": "stdout",
          "text": [
            "1\n",
            "12\n",
            "123\n",
            "1234\n",
            "12345\n"
          ]
        }
      ]
    },
    {
      "cell_type": "code",
      "source": [
        "# 4\n",
        "\n",
        "def patternNumber4(n):\n",
        "  for x in range(1, n + 1):\n",
        "    for y in range(1, x + 1):\n",
        "      print(x, end = '')\n",
        "\n",
        "    print('')"
      ],
      "metadata": {
        "id": "HxKfyROtALU4"
      },
      "execution_count": 48,
      "outputs": []
    },
    {
      "cell_type": "code",
      "source": [
        "patternNumber4(5)"
      ],
      "metadata": {
        "colab": {
          "base_uri": "https://localhost:8080/"
        },
        "id": "pAMDqUmjARRF",
        "outputId": "260d70c0-8153-4d57-d89f-9ec887ce31f9"
      },
      "execution_count": 49,
      "outputs": [
        {
          "output_type": "stream",
          "name": "stdout",
          "text": [
            "1\n",
            "22\n",
            "333\n",
            "4444\n",
            "55555\n"
          ]
        }
      ]
    },
    {
      "cell_type": "code",
      "source": [
        "# 5\n",
        "\n",
        "def patternNumber5(n):\n",
        "  for x in range(1, n + 1):\n",
        "    for y in range(6 - x, 0, -1):\n",
        "      print(\"*\", end = '')\n",
        "\n",
        "    print('')"
      ],
      "metadata": {
        "id": "96qDbsJdAewi"
      },
      "execution_count": 50,
      "outputs": []
    },
    {
      "cell_type": "code",
      "source": [
        "patternNumber5(5)"
      ],
      "metadata": {
        "colab": {
          "base_uri": "https://localhost:8080/"
        },
        "id": "p0C7o_-uBW3f",
        "outputId": "3ba5dca0-0c97-4e58-abe1-78187519eb10"
      },
      "execution_count": 51,
      "outputs": [
        {
          "output_type": "stream",
          "name": "stdout",
          "text": [
            "*****\n",
            "****\n",
            "***\n",
            "**\n",
            "*\n"
          ]
        }
      ]
    },
    {
      "cell_type": "code",
      "source": [
        "# 6\n",
        "\n",
        "def patternNumber6(n):\n",
        "  for x in range(n + 1, 1, -1):\n",
        "    for y in range(1, x):\n",
        "      print(y, end = '')\n",
        "\n",
        "    print('')"
      ],
      "metadata": {
        "id": "pOaBz8tmDBzl"
      },
      "execution_count": 52,
      "outputs": []
    },
    {
      "cell_type": "code",
      "source": [
        "patternNumber6(5)"
      ],
      "metadata": {
        "colab": {
          "base_uri": "https://localhost:8080/"
        },
        "id": "raetrcZEDpa_",
        "outputId": "c1b54f21-cf58-41af-8700-b1986e719f30"
      },
      "execution_count": 53,
      "outputs": [
        {
          "output_type": "stream",
          "name": "stdout",
          "text": [
            "12345\n",
            "1234\n",
            "123\n",
            "12\n",
            "1\n"
          ]
        }
      ]
    },
    {
      "cell_type": "code",
      "source": [
        "# 7\n",
        "\n",
        "def patternNumber7(n):\n",
        "  starsCount = 1\n",
        "  for x in range(n, 0, -1):\n",
        "    for spa in range(1, x):\n",
        "      print(' ', end='')\n",
        "    for y in range(0, starsCount):\n",
        "      print('*', end='')\n",
        "    starsCount += 2\n",
        "\n",
        "\n",
        "\n",
        "    print('')\n"
      ],
      "metadata": {
        "id": "cvvCIxC1chcn"
      },
      "execution_count": 36,
      "outputs": []
    },
    {
      "cell_type": "code",
      "source": [
        "patternNumber7(4)"
      ],
      "metadata": {
        "id": "bWQqmGomwWS8",
        "colab": {
          "base_uri": "https://localhost:8080/"
        },
        "outputId": "8bcd1e4b-fe56-47ac-8323-f0b9f2d36279"
      },
      "execution_count": 37,
      "outputs": [
        {
          "output_type": "stream",
          "name": "stdout",
          "text": [
            "   *\n",
            "  ***\n",
            " *****\n",
            "*******\n"
          ]
        }
      ]
    },
    {
      "cell_type": "code",
      "source": [
        "# 8\n",
        "\n",
        "def patternNumber8(n):\n",
        "  starsCount = 1\n",
        "  for x in range(n, 0, -1):\n",
        "    for spa in range(1, x):\n",
        "      print(' ', end='')\n",
        "    for y in range(0, starsCount):\n",
        "      print('*', end='')\n",
        "    starsCount += 2\n",
        "\n",
        "\n",
        "\n",
        "    print('')"
      ],
      "metadata": {
        "id": "VoCB8Yz8zCYX"
      },
      "execution_count": 56,
      "outputs": []
    },
    {
      "cell_type": "code",
      "source": [
        "patternNumber8(5)"
      ],
      "metadata": {
        "colab": {
          "base_uri": "https://localhost:8080/"
        },
        "id": "WZ5fWkKvzs28",
        "outputId": "8237a19c-b4e5-4a4a-9633-b35c3456e39f"
      },
      "execution_count": 57,
      "outputs": [
        {
          "output_type": "stream",
          "name": "stdout",
          "text": [
            "    *\n",
            "   ***\n",
            "  *****\n",
            " *******\n",
            "*********\n"
          ]
        }
      ]
    }
  ]
}