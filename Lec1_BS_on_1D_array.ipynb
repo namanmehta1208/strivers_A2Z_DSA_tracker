{
  "nbformat": 4,
  "nbformat_minor": 0,
  "metadata": {
    "colab": {
      "provenance": [],
      "authorship_tag": "ABX9TyMzjWMtrZMtF7lZbT6ff5OT",
      "include_colab_link": true
    },
    "kernelspec": {
      "name": "python3",
      "display_name": "Python 3"
    },
    "language_info": {
      "name": "python"
    }
  },
  "cells": [
    {
      "cell_type": "markdown",
      "metadata": {
        "id": "view-in-github",
        "colab_type": "text"
      },
      "source": [
        "<a href=\"https://colab.research.google.com/github/namanmehta1208/strivers_A2Z_DSA_tracker/blob/main/Lec1_BS_on_1D_array.ipynb\" target=\"_parent\"><img src=\"https://colab.research.google.com/assets/colab-badge.svg\" alt=\"Open In Colab\"/></a>"
      ]
    },
    {
      "cell_type": "code",
      "execution_count": null,
      "metadata": {
        "colab": {
          "base_uri": "https://localhost:8080/"
        },
        "id": "3AescUw793ph",
        "outputId": "39834e79-25c9-4717-d95a-bc7dd6a1a531"
      },
      "outputs": [
        {
          "output_type": "stream",
          "name": "stdout",
          "text": [
            "The first and last occurrences are at indices: 3 and 4\n"
          ]
        }
      ],
      "source": [
        "#First and last occurrence\n",
        "class Solution:\n",
        "    # Function to find the first occurrence of the target\n",
        "    def firstOccurrence(self, nums, target):\n",
        "        low, high = 0, len(nums) - 1\n",
        "        first = -1\n",
        "\n",
        "        # Applying Binary Search Algorithm\n",
        "        while low <= high:\n",
        "            mid = low + (high - low) // 2\n",
        "\n",
        "            # If the target element is found, we\n",
        "            # update the first variable to mid and\n",
        "            # eliminate the right half to look for\n",
        "            # more smaller index where target is present\n",
        "            if nums[mid] == target:\n",
        "                first = mid\n",
        "                high = mid - 1\n",
        "\n",
        "            # If middle element is smaller,\n",
        "            # we eliminate the left half\n",
        "            elif nums[mid] < target:\n",
        "                low = mid + 1\n",
        "\n",
        "            # If middle element is greater,\n",
        "            # we eliminate the right half\n",
        "            else:\n",
        "                high = mid - 1\n",
        "\n",
        "        return first\n",
        "\n",
        "    # Function to find the last occurrence of the target\n",
        "    def lastOccurrence(self, nums, target):\n",
        "        low, high = 0, len(nums) - 1\n",
        "        last = -1\n",
        "\n",
        "        # Applying Binary Search Algorithm\n",
        "        while low <= high:\n",
        "            mid = low + (high - low) // 2\n",
        "\n",
        "            # If the target element is found, we\n",
        "            # update the last variable to mid and\n",
        "            # eliminate the left half to look for\n",
        "            # more greater index where target is present\n",
        "            if nums[mid] == target:\n",
        "                last = mid\n",
        "                low = mid + 1\n",
        "\n",
        "            # If middle element is smaller,\n",
        "            # we eliminate the left half\n",
        "            elif nums[mid] < target:\n",
        "                low = mid + 1\n",
        "\n",
        "            # If middle element is greater,\n",
        "            # we eliminate the right half\n",
        "            else:\n",
        "                high = mid - 1\n",
        "\n",
        "        return last\n",
        "\n",
        "    # Function to find the first and last occurrences of the target\n",
        "    def searchRange(self, nums, target):\n",
        "\n",
        "        # Function call to find the first occurence of target\n",
        "        first = self.firstOccurrence(nums, target)\n",
        "\n",
        "        # If the target is not present in the array\n",
        "        if first == -1:\n",
        "            return [-1, -1]\n",
        "\n",
        "        # Function call to find the last occurence of target\n",
        "        last = self.lastOccurrence(nums, target)\n",
        "\n",
        "        return [first, last]\n",
        "\n",
        "if __name__ == \"__main__\":\n",
        "    nums = [5, 7, 7, 8, 8, 10]\n",
        "    target = 8\n",
        "\n",
        "    # Create an instance of the Solution class\n",
        "    sol = Solution()\n",
        "\n",
        "    # Function call to find the first and last occurrences\n",
        "    result = sol.searchRange(nums, target)\n",
        "\n",
        "    print(\"The first and last occurrences are at indices:\", result[0], \"and\", result[1])\n",
        "\n"
      ]
    },
    {
      "cell_type": "code",
      "source": [
        "# Search in rotated sorted array-I\n",
        "def search(nums, target):\n",
        "  lw, hgh = 0, len(nums) - 1\n",
        "  result = -1\n",
        "\n",
        "  while(lw <= hgh):\n",
        "    mid = (hgh + lw) // 2\n",
        "\n",
        "    if(nums[mid] == target):\n",
        "      result = mid\n",
        "      return result\n",
        "\n",
        "    # check if left half is sorted\n",
        "    if(nums[lw] <= nums[mid]):\n",
        "      # checking if the target exists in the left sorted half\n",
        "      if(nums[lw] <= target <= nums[mid]):\n",
        "        hgh = mid - 1\n",
        "      # else target exisits in right half\n",
        "      else:\n",
        "        lw = mid + 1\n",
        "\n",
        "    # checking if right half is sorted\n",
        "    elif(nums[hgh] > nums[mid]):\n",
        "      # checking if the target exists in the right sorted half\n",
        "      if(nums[mid] <= target <= nums[hgh]):\n",
        "        lw = mid + 1\n",
        "      # else target exisits in left half\n",
        "      else:\n",
        "        hgh = mid - 1\n",
        "\n",
        "  return result\n"
      ],
      "metadata": {
        "id": "9epRvg9sORWk"
      },
      "execution_count": 6,
      "outputs": []
    },
    {
      "cell_type": "code",
      "source": [
        "search([39,45,48,52,74,-82,-81,-77,-74,-70,-46,-37,-29,-28,-15,15,19,27,33], 523)"
      ],
      "metadata": {
        "colab": {
          "base_uri": "https://localhost:8080/"
        },
        "id": "Wu3Fuy9wQfLQ",
        "outputId": "30aaed75-0157-4375-d65b-3a63da48426a"
      },
      "execution_count": 8,
      "outputs": [
        {
          "output_type": "execute_result",
          "data": {
            "text/plain": [
              "-1"
            ]
          },
          "metadata": {},
          "execution_count": 8
        }
      ]
    }
  ]
}