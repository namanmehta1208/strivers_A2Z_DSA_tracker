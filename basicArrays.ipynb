{
  "nbformat": 4,
  "nbformat_minor": 0,
  "metadata": {
    "colab": {
      "provenance": [],
      "authorship_tag": "ABX9TyMpU62xIb31serr2QC8bwhk",
      "include_colab_link": true
    },
    "kernelspec": {
      "name": "python3",
      "display_name": "Python 3"
    },
    "language_info": {
      "name": "python"
    }
  },
  "cells": [
    {
      "cell_type": "markdown",
      "metadata": {
        "id": "view-in-github",
        "colab_type": "text"
      },
      "source": [
        "<a href=\"https://colab.research.google.com/github/namanmehta1208/strivers_A2Z_DSA_tracker/blob/main/basicArrays.ipynb\" target=\"_parent\"><img src=\"https://colab.research.google.com/assets/colab-badge.svg\" alt=\"Open In Colab\"/></a>"
      ]
    },
    {
      "cell_type": "code",
      "execution_count": null,
      "metadata": {
        "id": "i7VSZz848enD"
      },
      "outputs": [],
      "source": [
        "# Sum of Array Elements\n",
        "\n",
        "def sum(arr, n):\n",
        "  totalSum = 0\n",
        "  for x in range(1, n + 1):\n",
        "    totalSum += arr[x - 1]\n",
        "\n",
        "  return totalSum"
      ]
    },
    {
      "cell_type": "code",
      "source": [
        "print(sum([1, 2, 3, 4, 5], 5))"
      ],
      "metadata": {
        "colab": {
          "base_uri": "https://localhost:8080/"
        },
        "id": "e_fLRkBw-vGi",
        "outputId": "e9bf15bb-c686-4afe-e472-0e549ae86b1b"
      },
      "execution_count": null,
      "outputs": [
        {
          "output_type": "stream",
          "name": "stdout",
          "text": [
            "15\n"
          ]
        }
      ]
    },
    {
      "cell_type": "code",
      "source": [
        "# Count of odd numbers in array\n",
        "\n",
        "def countOdd(arr, n):\n",
        "  oddCounter = 0\n",
        "\n",
        "  for x in range(1, n + 1):\n",
        "    if(arr[x - 1] % 2 != 0):\n",
        "      oddCounter += 1\n",
        "\n",
        "  return oddCounter"
      ],
      "metadata": {
        "id": "l-hMHPcQ_IbU"
      },
      "execution_count": null,
      "outputs": []
    },
    {
      "cell_type": "code",
      "source": [
        "print(countOdd([1, 2, 3, 4, 5], 5))"
      ],
      "metadata": {
        "colab": {
          "base_uri": "https://localhost:8080/"
        },
        "id": "_hLJ5ABc_wcw",
        "outputId": "a4075805-14f5-4d1c-9fe5-ec6ed22c47e9"
      },
      "execution_count": null,
      "outputs": [
        {
          "output_type": "stream",
          "name": "stdout",
          "text": [
            "3\n"
          ]
        }
      ]
    },
    {
      "cell_type": "code",
      "source": [
        "# Check if the Array is Sorted I\n",
        "\n",
        "def arraySortedOrNot(arr, n):\n",
        "  for x in range(1, n):\n",
        "    if(arr[x - 1] > arr[x]):\n",
        "      return False\n",
        "\n",
        "  return True"
      ],
      "metadata": {
        "id": "k8OuHtboAfn0"
      },
      "execution_count": null,
      "outputs": []
    },
    {
      "cell_type": "code",
      "source": [
        "print(arraySortedOrNot([1, 2, 3, 4, 5], 5))"
      ],
      "metadata": {
        "colab": {
          "base_uri": "https://localhost:8080/"
        },
        "id": "1PxPQSFwA7JE",
        "outputId": "f2c9f6e3-c640-4d9d-faec-af180e428d8d"
      },
      "execution_count": null,
      "outputs": [
        {
          "output_type": "stream",
          "name": "stdout",
          "text": [
            "True\n"
          ]
        }
      ]
    },
    {
      "cell_type": "code",
      "source": [
        "# Reverse an array\n",
        "\n",
        "def reverse(arr, n):\n",
        "\n",
        "  # left = 0\n",
        "  # right = len(arr) - 1\n",
        "\n",
        "  # while(left < right):\n",
        "  #   temp = arr[left]\n",
        "  #   arr[left] = arr[right]\n",
        "  #   arr[right] = temp\n",
        "\n",
        "  #   left += 1\n",
        "  #   right -= 1\n",
        "\n",
        "  arr.reverse()\n",
        "\n",
        "\n",
        "\n",
        "  return arr"
      ],
      "metadata": {
        "id": "3UdO_ubqCwJi"
      },
      "execution_count": null,
      "outputs": []
    },
    {
      "cell_type": "code",
      "source": [
        "print(reverse([1, 2, 3, 4, 5], 5))"
      ],
      "metadata": {
        "colab": {
          "base_uri": "https://localhost:8080/"
        },
        "id": "-b4rX0kMDSlE",
        "outputId": "fc3ca8fa-33ee-4770-c57c-f2b67b28e569"
      },
      "execution_count": null,
      "outputs": [
        {
          "output_type": "stream",
          "name": "stdout",
          "text": [
            "[5, 4, 3, 2, 1]\n"
          ]
        }
      ]
    },
    {
      "cell_type": "code",
      "source": [
        "# check of the array is sorted\n",
        "def isSorted(nums):\n",
        "  for i in range(0, len(nums) - 1):\n",
        "    if(nums[i] > nums[i + 1]):\n",
        "      return False\n",
        "\n",
        "  return True\n"
      ],
      "metadata": {
        "id": "KMtXnF4acDMO"
      },
      "execution_count": null,
      "outputs": []
    },
    {
      "cell_type": "code",
      "source": [
        "isSorted([1, 2, 3, 4, 5])"
      ],
      "metadata": {
        "colab": {
          "base_uri": "https://localhost:8080/"
        },
        "id": "z7Nl6k6qc4Tl",
        "outputId": "ce256a57-b9d6-40e6-c052-83cf70edf7fc"
      },
      "execution_count": null,
      "outputs": [
        {
          "output_type": "execute_result",
          "data": {
            "text/plain": [
              "True"
            ]
          },
          "metadata": {},
          "execution_count": 8
        }
      ]
    },
    {
      "cell_type": "code",
      "source": [
        "def unionArray(nums1, nums2):\n",
        "  \"\"\"\n",
        "  [Medium]\n",
        "  here we will use sets to extract the uniqie values from both the arrays\n",
        "  A set is a collection of unique, unordered elements. It only stores\n",
        "  values (no key–value pairs like dictionaries).\n",
        "  \"\"\"\n",
        "  n = max(len(nums1), len(nums2))\n",
        "  union = []\n",
        "\n",
        "  s = set()\n",
        "\n",
        "  for num in nums1:\n",
        "    s.add(num)\n",
        "\n",
        "  for num in nums2:\n",
        "    s.add(num)\n",
        "\n",
        "  for num in sorted(s):\n",
        "    union.append(num)\n",
        "\n",
        "  return union\n",
        "\n"
      ],
      "metadata": {
        "id": "GSzOg7P5egbv"
      },
      "execution_count": 10,
      "outputs": []
    },
    {
      "cell_type": "code",
      "source": [
        "unionArray([1,1,2,3,4,5], [2,3,4,4,5,6])"
      ],
      "metadata": {
        "id": "hRqDVaUq-Gzu",
        "colab": {
          "base_uri": "https://localhost:8080/"
        },
        "outputId": "59990c88-f45f-4be3-d9c9-8cbfc67c52ab"
      },
      "execution_count": 11,
      "outputs": [
        {
          "output_type": "execute_result",
          "data": {
            "text/plain": [
              "[1, 2, 3, 4, 5, 6]"
            ]
          },
          "metadata": {},
          "execution_count": 11
        }
      ]
    }
  ]
}