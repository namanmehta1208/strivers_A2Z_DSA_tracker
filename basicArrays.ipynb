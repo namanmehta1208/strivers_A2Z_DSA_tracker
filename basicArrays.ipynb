{
  "nbformat": 4,
  "nbformat_minor": 0,
  "metadata": {
    "colab": {
      "provenance": [],
      "authorship_tag": "ABX9TyNa5wCsjklugjGNClCkkTh4",
      "include_colab_link": true
    },
    "kernelspec": {
      "name": "python3",
      "display_name": "Python 3"
    },
    "language_info": {
      "name": "python"
    }
  },
  "cells": [
    {
      "cell_type": "markdown",
      "metadata": {
        "id": "view-in-github",
        "colab_type": "text"
      },
      "source": [
        "<a href=\"https://colab.research.google.com/github/namanmehta1208/strivers_A2Z_DSA_tracker/blob/main/basicArrays.ipynb\" target=\"_parent\"><img src=\"https://colab.research.google.com/assets/colab-badge.svg\" alt=\"Open In Colab\"/></a>"
      ]
    },
    {
      "cell_type": "code",
      "execution_count": null,
      "metadata": {
        "id": "i7VSZz848enD"
      },
      "outputs": [],
      "source": [
        "# Sum of Array Elements\n",
        "\n",
        "def sum(arr, n):\n",
        "  totalSum = 0\n",
        "  for x in range(1, n + 1):\n",
        "    totalSum += arr[x - 1]\n",
        "\n",
        "  return totalSum"
      ]
    },
    {
      "cell_type": "code",
      "source": [
        "print(sum([1, 2, 3, 4, 5], 5))"
      ],
      "metadata": {
        "colab": {
          "base_uri": "https://localhost:8080/"
        },
        "id": "e_fLRkBw-vGi",
        "outputId": "e9bf15bb-c686-4afe-e472-0e549ae86b1b"
      },
      "execution_count": null,
      "outputs": [
        {
          "output_type": "stream",
          "name": "stdout",
          "text": [
            "15\n"
          ]
        }
      ]
    },
    {
      "cell_type": "code",
      "source": [
        "# Count of odd numbers in array\n",
        "\n",
        "def countOdd(arr, n):\n",
        "  oddCounter = 0\n",
        "\n",
        "  for x in range(1, n + 1):\n",
        "    if(arr[x - 1] % 2 != 0):\n",
        "      oddCounter += 1\n",
        "\n",
        "  return oddCounter"
      ],
      "metadata": {
        "id": "l-hMHPcQ_IbU"
      },
      "execution_count": null,
      "outputs": []
    },
    {
      "cell_type": "code",
      "source": [
        "print(countOdd([1, 2, 3, 4, 5], 5))"
      ],
      "metadata": {
        "colab": {
          "base_uri": "https://localhost:8080/"
        },
        "id": "_hLJ5ABc_wcw",
        "outputId": "a4075805-14f5-4d1c-9fe5-ec6ed22c47e9"
      },
      "execution_count": null,
      "outputs": [
        {
          "output_type": "stream",
          "name": "stdout",
          "text": [
            "3\n"
          ]
        }
      ]
    },
    {
      "cell_type": "code",
      "source": [
        "# Check if the Array is Sorted I\n",
        "\n",
        "def arraySortedOrNot(arr, n):\n",
        "  for x in range(1, n):\n",
        "    if(arr[x - 1] > arr[x]):\n",
        "      return False\n",
        "\n",
        "  return True"
      ],
      "metadata": {
        "id": "k8OuHtboAfn0"
      },
      "execution_count": null,
      "outputs": []
    },
    {
      "cell_type": "code",
      "source": [
        "print(arraySortedOrNot([1, 2, 3, 4, 5], 5))"
      ],
      "metadata": {
        "colab": {
          "base_uri": "https://localhost:8080/"
        },
        "id": "1PxPQSFwA7JE",
        "outputId": "f2c9f6e3-c640-4d9d-faec-af180e428d8d"
      },
      "execution_count": null,
      "outputs": [
        {
          "output_type": "stream",
          "name": "stdout",
          "text": [
            "True\n"
          ]
        }
      ]
    },
    {
      "cell_type": "code",
      "source": [
        "# Reverse an array\n",
        "\n",
        "def reverse(arr, n):\n",
        "\n",
        "  # left = 0\n",
        "  # right = len(arr) - 1\n",
        "\n",
        "  # while(left < right):\n",
        "  #   temp = arr[left]\n",
        "  #   arr[left] = arr[right]\n",
        "  #   arr[right] = temp\n",
        "\n",
        "  #   left += 1\n",
        "  #   right -= 1\n",
        "\n",
        "  arr.reverse()\n",
        "\n",
        "\n",
        "\n",
        "  return arr"
      ],
      "metadata": {
        "id": "3UdO_ubqCwJi"
      },
      "execution_count": null,
      "outputs": []
    },
    {
      "cell_type": "code",
      "source": [
        "print(reverse([1, 2, 3, 4, 5], 5))"
      ],
      "metadata": {
        "colab": {
          "base_uri": "https://localhost:8080/"
        },
        "id": "-b4rX0kMDSlE",
        "outputId": "fc3ca8fa-33ee-4770-c57c-f2b67b28e569"
      },
      "execution_count": null,
      "outputs": [
        {
          "output_type": "stream",
          "name": "stdout",
          "text": [
            "[5, 4, 3, 2, 1]\n"
          ]
        }
      ]
    },
    {
      "cell_type": "code",
      "source": [
        "# check of the array is sorted\n",
        "def isSorted(nums):\n",
        "  for i in range(0, len(nums) - 1):\n",
        "    if(nums[i] > nums[i + 1]):\n",
        "      return False\n",
        "\n",
        "  return True\n"
      ],
      "metadata": {
        "id": "KMtXnF4acDMO"
      },
      "execution_count": null,
      "outputs": []
    },
    {
      "cell_type": "code",
      "source": [
        "isSorted([1, 2, 3, 4, 5])"
      ],
      "metadata": {
        "colab": {
          "base_uri": "https://localhost:8080/"
        },
        "id": "z7Nl6k6qc4Tl",
        "outputId": "ce256a57-b9d6-40e6-c052-83cf70edf7fc"
      },
      "execution_count": null,
      "outputs": [
        {
          "output_type": "execute_result",
          "data": {
            "text/plain": [
              "True"
            ]
          },
          "metadata": {},
          "execution_count": 8
        }
      ]
    },
    {
      "cell_type": "code",
      "source": [
        "def unionArray(nums1, nums2):\n",
        "  # Union of two sorted arrays\n",
        "  \"\"\"\n",
        "  [Medium]\n",
        "  here we will use sets to extract the uniqie values from both the arrays\n",
        "  A set is a collection of unique, unordered elements. It only stores\n",
        "  values (no key–value pairs like dictionaries).\n",
        "  \"\"\"\n",
        "  n = max(len(nums1), len(nums2))\n",
        "  union = []\n",
        "\n",
        "  s = set()\n",
        "\n",
        "  for num in nums1:\n",
        "    s.add(num)\n",
        "\n",
        "  for num in nums2:\n",
        "    s.add(num)\n",
        "\n",
        "  for num in sorted(s):\n",
        "    union.append(num)\n",
        "\n",
        "  return union\n",
        "\n"
      ],
      "metadata": {
        "id": "GSzOg7P5egbv"
      },
      "execution_count": null,
      "outputs": []
    },
    {
      "cell_type": "code",
      "source": [
        "unionArray([1,1,2,3,4,5], [2,3,4,4,5,6])"
      ],
      "metadata": {
        "id": "hRqDVaUq-Gzu",
        "colab": {
          "base_uri": "https://localhost:8080/"
        },
        "outputId": "59990c88-f45f-4be3-d9c9-8cbfc67c52ab"
      },
      "execution_count": null,
      "outputs": [
        {
          "output_type": "execute_result",
          "data": {
            "text/plain": [
              "[1, 2, 3, 4, 5, 6]"
            ]
          },
          "metadata": {},
          "execution_count": 11
        }
      ]
    },
    {
      "cell_type": "code",
      "source": [
        "# Find missing number\n",
        "def missingNumber(nums):\n",
        "  nums.sort()\n",
        "\n",
        "  # print('sorted array = ', nums)\n",
        "\n",
        "  for i in range(0, len(nums)):\n",
        "    if(nums[i] != i):\n",
        "      return i\n",
        "\n",
        "\n",
        "  return len(nums)\n",
        "\n"
      ],
      "metadata": {
        "id": "gjTJT3dRBesa"
      },
      "execution_count": null,
      "outputs": []
    },
    {
      "cell_type": "code",
      "source": [
        "missingNumber([0, 1, 2, 4, 5, 6])"
      ],
      "metadata": {
        "colab": {
          "base_uri": "https://localhost:8080/"
        },
        "id": "0wllVLHWCNGa",
        "outputId": "31a0dacd-9025-4374-df51-fc913ba54d8f"
      },
      "execution_count": null,
      "outputs": [
        {
          "output_type": "stream",
          "name": "stdout",
          "text": [
            "sorted array =  [0, 1, 2, 4, 5, 6]\n"
          ]
        },
        {
          "output_type": "execute_result",
          "data": {
            "text/plain": [
              "3"
            ]
          },
          "metadata": {},
          "execution_count": 21
        }
      ]
    },
    {
      "cell_type": "code",
      "source": [
        "# Step 4 Search X in sorted array\n",
        "def search(nums, target):\n",
        "  for i in range(0, len(nums)):\n",
        "    if(nums[i] == target):\n",
        "      return i\n",
        "  return -1"
      ],
      "metadata": {
        "id": "6coywYfNgkJy"
      },
      "execution_count": null,
      "outputs": []
    },
    {
      "cell_type": "code",
      "source": [
        "search([-1,0,3,5,9,12], 9)"
      ],
      "metadata": {
        "colab": {
          "base_uri": "https://localhost:8080/"
        },
        "id": "NODRdOg2qUfh",
        "outputId": "706f2602-f4d2-4585-8a08-c757504f66c8"
      },
      "execution_count": null,
      "outputs": [
        {
          "output_type": "execute_result",
          "data": {
            "text/plain": [
              "4"
            ]
          },
          "metadata": {},
          "execution_count": 2
        }
      ]
    },
    {
      "cell_type": "code",
      "source": [
        "# Step 4 Floor and Ceil in Sorted Array\n",
        "\"\"\"\n",
        "so for finding floor, we start travercing the array from 0 to last element\n",
        "with the following conditions\n",
        "Firstly if we find equal number to target we assign both ceil and floor to\n",
        "that number and return, else we keep on finding the last number lower than\n",
        "x and as soon as we find a number greater then x we return previous lesser\n",
        "number. Same condidion for Ceil but in reverse.\n",
        "TBD- Optimal\n",
        "\"\"\"\n",
        "def getFloorAndCeil(nums, x):\n",
        "  floor = -1\n",
        "  ceil = -1\n",
        "  prevf = 0\n",
        "  prevc = 0\n",
        "\n",
        "  for i in range(0, len(nums)):\n",
        "    if(nums[i] == x):\n",
        "      floor = nums[i]\n",
        "      ceil = nums[i]\n",
        "      return floor, ceil\n",
        "    elif(nums[i] < x):\n",
        "      floor = nums[i]\n",
        "    elif(nums[i] > x):\n",
        "      break\n",
        "\n",
        "  for j in range(len(nums) - 1, -1, -1):\n",
        "    if(nums[j] == x):\n",
        "      floor = nums[i]\n",
        "      ceil = nums[i]\n",
        "      return floor, ceil\n",
        "    elif(nums[j] > x):\n",
        "      ceil = nums[j]\n",
        "    elif(nums[j] < x):\n",
        "      break\n",
        "\n",
        "  return floor, ceil\n"
      ],
      "metadata": {
        "id": "iN3WLr0qrP6C"
      },
      "execution_count": null,
      "outputs": []
    },
    {
      "cell_type": "code",
      "source": [
        "getFloorAndCeil([325,382,556,684,742], 45)"
      ],
      "metadata": {
        "colab": {
          "base_uri": "https://localhost:8080/"
        },
        "id": "2X2SXa-ztZFs",
        "outputId": "24d89721-633c-4643-abb3-34726c8ac443"
      },
      "execution_count": null,
      "outputs": [
        {
          "output_type": "execute_result",
          "data": {
            "text/plain": [
              "(-1, 325)"
            ]
          },
          "metadata": {},
          "execution_count": 34
        }
      ]
    },
    {
      "cell_type": "code",
      "source": [
        "# Step 4 First and last occurrence [Solution using Binary search is in Lec1 notebook]\n",
        "def searchRange(nums, target):\n",
        "  result_range = []\n",
        "\n",
        "  for i in range(0, len(nums)):\n",
        "    if(nums[i] == target):\n",
        "      result_range.append(i)\n",
        "\n",
        "  if(len(result_range) == 2):\n",
        "    return result_range\n",
        "  elif(len(result_range) > 2):\n",
        "    return [result_range[0], result_range[(len(result_range) - 1)]]\n",
        "  elif(len(result_range) == 0):\n",
        "    return [-1, -1]\n",
        "  elif(len(result_range) == 1):\n",
        "    result_range.append(result_range[0])\n",
        "    return result_range"
      ],
      "metadata": {
        "id": "4BGjUVbL74qI"
      },
      "execution_count": null,
      "outputs": []
    },
    {
      "cell_type": "code",
      "source": [
        "searchRange([-21,-20,-19,-19,-18,-18,-17,-16,-10,-7,-7,-6,-5,-5,-3,-2,-2,-2,-1,-1,1,2,2,2,2,3,3,6,7,8,9,11,11,13,13,16,17,17,20,23,23,23,23], 23)"
      ],
      "metadata": {
        "colab": {
          "base_uri": "https://localhost:8080/"
        },
        "id": "fqIkHwJJ-E19",
        "outputId": "06ddbc91-a760-4c7f-e661-9dac5a2d1351"
      },
      "execution_count": null,
      "outputs": [
        {
          "output_type": "execute_result",
          "data": {
            "text/plain": [
              "[39, 42]"
            ]
          },
          "metadata": {},
          "execution_count": 52
        }
      ]
    },
    {
      "cell_type": "code",
      "source": [
        "# Remove duplicates from sorted array\n",
        "\"\"\"\n",
        "we used two pointer for this, as the array is sorted\n",
        "we compare i with j and as soon as we find a different value\n",
        "then we replace arr[i + 1] with j\n",
        "\"\"\"\n",
        "def removeDuplicates(nums):\n",
        "  i, j = 0, 1\n",
        "\n",
        "  while(j < len(nums)):\n",
        "    if(nums[i] == nums[j]):\n",
        "      j += 1\n",
        "    else:\n",
        "      i += 1\n",
        "      nums[i] = nums[j]\n",
        "\n",
        "  return i + 1"
      ],
      "metadata": {
        "id": "me_ZrJLmIGx4"
      },
      "execution_count": 9,
      "outputs": []
    },
    {
      "cell_type": "code",
      "source": [
        "removeDuplicates([-2, 2, 4, 4, 4, 4, 5, 5])"
      ],
      "metadata": {
        "colab": {
          "base_uri": "https://localhost:8080/"
        },
        "id": "nS_fbzw4ML1c",
        "outputId": "82472fc2-3500-4eb0-ebe0-a4ee9bd4f50c"
      },
      "execution_count": 11,
      "outputs": [
        {
          "output_type": "execute_result",
          "data": {
            "text/plain": [
              "4"
            ]
          },
          "metadata": {},
          "execution_count": 11
        }
      ]
    }
  ]
}