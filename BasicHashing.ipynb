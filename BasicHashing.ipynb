{
  "nbformat": 4,
  "nbformat_minor": 0,
  "metadata": {
    "colab": {
      "provenance": [],
      "authorship_tag": "ABX9TyO1U0+ewsEDiYtP9k0HO3XY",
      "include_colab_link": true
    },
    "kernelspec": {
      "name": "python3",
      "display_name": "Python 3"
    },
    "language_info": {
      "name": "python"
    }
  },
  "cells": [
    {
      "cell_type": "markdown",
      "metadata": {
        "id": "view-in-github",
        "colab_type": "text"
      },
      "source": [
        "<a href=\"https://colab.research.google.com/github/namanmehta1208/strivers_A2Z_DSA_tracker/blob/main/BasicHashing.ipynb\" target=\"_parent\"><img src=\"https://colab.research.google.com/assets/colab-badge.svg\" alt=\"Open In Colab\"/></a>"
      ]
    },
    {
      "cell_type": "code",
      "execution_count": null,
      "metadata": {
        "id": "dlDfGUSyNW0l"
      },
      "outputs": [],
      "source": [
        "# Highest Occurring Element in an Array\n",
        "def mostFrequentElement(nums):\n",
        "  freq = {}\n",
        "  finalCount = 0\n",
        "  max = 0\n",
        "  multiMaxCount = 0\n",
        "  multiMax = [] # in case their are multiple number with the same max count\n",
        "\n",
        "  for num in nums:\n",
        "    freq[num] = freq.get(num, 0) + 1\n",
        "\n",
        "  if(len(freq) == 1):\n",
        "    return list(freq.keys())[0]\n",
        "\n",
        "  for num, count in freq.items():\n",
        "    if(count >= 1 and finalCount == count):\n",
        "      multiMax = [multiMaxNum for multiMaxNum, multuCount in freq.items() if multuCount == count]\n",
        "      multiMaxCount = count\n",
        "      print('inside multiMax if ', multiMax, multiMaxCount)\n",
        "\n",
        "    if(count > finalCount and count > multiMaxCount):\n",
        "      finalCount = count\n",
        "      max = num\n",
        "      multiMax.clear()\n",
        "\n",
        "  if(len(multiMax) > 0):\n",
        "    multiMax.sort()\n",
        "    print('inside multimax', multiMax)\n",
        "    print(freq)\n",
        "    return multiMax[0]\n",
        "  else:\n",
        "    print('dictionary length = ', len(freq))\n",
        "    print(freq)\n",
        "    return max\n",
        "\n",
        "  # print('Max value found:', freq.get(finalCount))\n"
      ]
    },
    {
      "cell_type": "code",
      "source": [
        "print(mostFrequentElement([18,17,16,15,14,13,12,11,100,9,8,7,6,5,4,3,2,1]))"
      ],
      "metadata": {
        "colab": {
          "base_uri": "https://localhost:8080/"
        },
        "id": "c7-8CI_pW05B",
        "outputId": "f765f22c-c7a8-47a6-cdf8-5a98d4d1a7e1"
      },
      "execution_count": null,
      "outputs": [
        {
          "output_type": "stream",
          "name": "stdout",
          "text": [
            "inside multiMax if  [18, 17, 16, 15, 14, 13, 12, 11, 100, 9, 8, 7, 6, 5, 4, 3, 2, 1] 1\n",
            "inside multiMax if  [18, 17, 16, 15, 14, 13, 12, 11, 100, 9, 8, 7, 6, 5, 4, 3, 2, 1] 1\n",
            "inside multiMax if  [18, 17, 16, 15, 14, 13, 12, 11, 100, 9, 8, 7, 6, 5, 4, 3, 2, 1] 1\n",
            "inside multiMax if  [18, 17, 16, 15, 14, 13, 12, 11, 100, 9, 8, 7, 6, 5, 4, 3, 2, 1] 1\n",
            "inside multiMax if  [18, 17, 16, 15, 14, 13, 12, 11, 100, 9, 8, 7, 6, 5, 4, 3, 2, 1] 1\n",
            "inside multiMax if  [18, 17, 16, 15, 14, 13, 12, 11, 100, 9, 8, 7, 6, 5, 4, 3, 2, 1] 1\n",
            "inside multiMax if  [18, 17, 16, 15, 14, 13, 12, 11, 100, 9, 8, 7, 6, 5, 4, 3, 2, 1] 1\n",
            "inside multiMax if  [18, 17, 16, 15, 14, 13, 12, 11, 100, 9, 8, 7, 6, 5, 4, 3, 2, 1] 1\n",
            "inside multiMax if  [18, 17, 16, 15, 14, 13, 12, 11, 100, 9, 8, 7, 6, 5, 4, 3, 2, 1] 1\n",
            "inside multiMax if  [18, 17, 16, 15, 14, 13, 12, 11, 100, 9, 8, 7, 6, 5, 4, 3, 2, 1] 1\n",
            "inside multiMax if  [18, 17, 16, 15, 14, 13, 12, 11, 100, 9, 8, 7, 6, 5, 4, 3, 2, 1] 1\n",
            "inside multiMax if  [18, 17, 16, 15, 14, 13, 12, 11, 100, 9, 8, 7, 6, 5, 4, 3, 2, 1] 1\n",
            "inside multiMax if  [18, 17, 16, 15, 14, 13, 12, 11, 100, 9, 8, 7, 6, 5, 4, 3, 2, 1] 1\n",
            "inside multiMax if  [18, 17, 16, 15, 14, 13, 12, 11, 100, 9, 8, 7, 6, 5, 4, 3, 2, 1] 1\n",
            "inside multiMax if  [18, 17, 16, 15, 14, 13, 12, 11, 100, 9, 8, 7, 6, 5, 4, 3, 2, 1] 1\n",
            "inside multiMax if  [18, 17, 16, 15, 14, 13, 12, 11, 100, 9, 8, 7, 6, 5, 4, 3, 2, 1] 1\n",
            "inside multiMax if  [18, 17, 16, 15, 14, 13, 12, 11, 100, 9, 8, 7, 6, 5, 4, 3, 2, 1] 1\n",
            "inside multimax [1, 2, 3, 4, 5, 6, 7, 8, 9, 11, 12, 13, 14, 15, 16, 17, 18, 100]\n",
            "{18: 1, 17: 1, 16: 1, 15: 1, 14: 1, 13: 1, 12: 1, 11: 1, 100: 1, 9: 1, 8: 1, 7: 1, 6: 1, 5: 1, 4: 1, 3: 1, 2: 1, 1: 1}\n",
            "1\n"
          ]
        }
      ]
    },
    {
      "cell_type": "code",
      "source": [
        "# Second Highest Occurring Element"
      ],
      "metadata": {
        "id": "3Y_NeFEliP_v"
      },
      "execution_count": null,
      "outputs": []
    }
  ]
}