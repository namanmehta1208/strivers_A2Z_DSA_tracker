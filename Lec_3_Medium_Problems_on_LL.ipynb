{
  "nbformat": 4,
  "nbformat_minor": 0,
  "metadata": {
    "colab": {
      "provenance": [],
      "authorship_tag": "ABX9TyNVHORisduBosiEOWu6fnX3",
      "include_colab_link": true
    },
    "kernelspec": {
      "name": "python3",
      "display_name": "Python 3"
    },
    "language_info": {
      "name": "python"
    }
  },
  "cells": [
    {
      "cell_type": "markdown",
      "metadata": {
        "id": "view-in-github",
        "colab_type": "text"
      },
      "source": [
        "<a href=\"https://colab.research.google.com/github/namanmehta1208/strivers_A2Z_DSA_tracker/blob/main/Lec_3_Medium_Problems_on_LL.ipynb\" target=\"_parent\"><img src=\"https://colab.research.google.com/assets/colab-badge.svg\" alt=\"Open In Colab\"/></a>"
      ]
    },
    {
      "cell_type": "code",
      "execution_count": null,
      "metadata": {
        "id": "RaONg8hc7DBr"
      },
      "outputs": [],
      "source": [
        "# Find Middle of Linked List\n",
        "class ListNode:\n",
        "    def __init__(self, val=0, next=None):\n",
        "        self.val = val\n",
        "        self.next = next\n",
        "\n",
        "    def __str__(self):\n",
        "        return str(self.val)"
      ]
    },
    {
      "cell_type": "code",
      "source": [
        "# [3, 8, 7, 1, 3]\n",
        "head = ListNode(3)\n",
        "a = ListNode(8)\n",
        "b = ListNode(7)\n",
        "c = ListNode(1)\n",
        "d = ListNode(3)\n",
        "\n",
        "head.next = a\n",
        "a.next = b\n",
        "b.next = c\n",
        "c.next = d"
      ],
      "metadata": {
        "id": "4tWCKbnYAI6K"
      },
      "execution_count": null,
      "outputs": []
    },
    {
      "cell_type": "code",
      "source": [
        "liList = head\n",
        "\n",
        "while liList:\n",
        "  print(liList)\n",
        "  liList = liList.next"
      ],
      "metadata": {
        "id": "tZCaTBwXAwiY",
        "colab": {
          "base_uri": "https://localhost:8080/"
        },
        "outputId": "749e5939-2238-4255-e5e9-1b1913926c5f"
      },
      "execution_count": null,
      "outputs": [
        {
          "output_type": "stream",
          "name": "stdout",
          "text": [
            "3\n",
            "8\n",
            "7\n",
            "1\n",
            "3\n"
          ]
        }
      ]
    },
    {
      "cell_type": "code",
      "source": [
        "\"\"\"\n",
        "Now to find the middle of the linked list, we are using an algorithm\n",
        "called tortiose and Hare also known as slow and fast pointer\n",
        "where slow pointer will be moving at the speed of one step but the fast\n",
        "pointer will be moving twice as fast.\n",
        "now imagine, speed of x\n",
        "p1 = x\n",
        "p2 = x/2\n",
        "so the distance that p1 will travel p2 will always endup somewhere\n",
        "in the middle of the total distance travelled by p1\n",
        "\"\"\"\n",
        "\n",
        "slow = head\n",
        "fast = head\n",
        "\n",
        "while fast is not None and fast.next is not None:\n",
        "  slow = slow.next\n",
        "\n",
        "  fast = fast.next.next\n",
        "\n",
        "print('Middle element = ', slow)\n",
        "\n"
      ],
      "metadata": {
        "colab": {
          "base_uri": "https://localhost:8080/"
        },
        "id": "UzLm0jPFBYSU",
        "outputId": "3d7bd9ad-fcb9-48f1-ee40-e35f5f58def0"
      },
      "execution_count": null,
      "outputs": [
        {
          "output_type": "stream",
          "name": "stdout",
          "text": [
            "Middle element =  7\n"
          ]
        }
      ]
    },
    {
      "cell_type": "code",
      "source": [
        "# Reversing a LL\n",
        "\"\"\"\n",
        "Input: head -> 1 -> 2 -> 3 -> 4 -> 5\n",
        "\n",
        "Output: head -> 5 -> 4 -> 3 -> 2 -> 1\n",
        "\n",
        "Explanation: All the links are reversed and the head now points to the last node of the original list.\n",
        "Solution\n",
        "we will use three pointer method\n",
        "prev = None (initially)\n",
        "temp = head (or current)\n",
        "front = temp next node\n",
        "now\n",
        "front = temp.next (head, temp = 1, front = 2(1 -> 2))\n",
        "temp.next = prev (prev = None, as one will be the last node it will point to None)\n",
        "prev = temp (to keep the record for the next element to point to)\n",
        "temp = front (we iterate to the next element)\n",
        "\"\"\"\n",
        "temp = head\n",
        "prev = None\n",
        "\n",
        "while temp != None:\n",
        "  front = temp.next\n",
        "  temp.next = prev\n",
        "  prev = temp\n",
        "  temp = front\n",
        "\n",
        "head = prev\n"
      ],
      "metadata": {
        "id": "Dk5B3t8yEhl8"
      },
      "execution_count": null,
      "outputs": []
    },
    {
      "cell_type": "code",
      "source": [
        "revList = head\n",
        "\n",
        "while revList:\n",
        "  print(revList)\n",
        "  revList = revList.next"
      ],
      "metadata": {
        "colab": {
          "base_uri": "https://localhost:8080/"
        },
        "outputId": "e36f3c34-5971-411d-cbee-f68998d3fd3d",
        "id": "UzfPb49CTLPW"
      },
      "execution_count": null,
      "outputs": [
        {
          "output_type": "stream",
          "name": "stdout",
          "text": [
            "3\n",
            "1\n",
            "7\n",
            "8\n",
            "3\n"
          ]
        }
      ]
    },
    {
      "cell_type": "code",
      "source": [
        "\"\"\"\n",
        "One Solution is to maintain a set will the references of each node\n",
        "we traverse and as we traverse we will check for new nodes refs in\n",
        "the set if it exists then there is probably a loop in the list\n",
        "but this approcah is not have a good space complexicity insted we\n",
        "can use tuttle hare algo here as well so as the fast pointer will move quickly\n",
        "if there is a loop it will go through the loop and at some point fast and slow\n",
        "will become equal which will confirm that there is a loop in the linked list.\n",
        "and they will surely collide because once the fast and slow both are in the loop\n",
        "fast is mowing 2 times towards slow where as slow is moving onlt 1 times so with each\n",
        "iteration the reduction of distance between is by one and at some point they will collide\n",
        "\"\"\"\n",
        "def hasCycle(self, head):\n",
        "  refSet = set()\n",
        "  linkedList = head\n",
        "\n",
        "  while linkedList:\n",
        "    if linkedList in refSet:\n",
        "      return True\n",
        "\n",
        "    refSet.add(linkedList)\n",
        "\n",
        "    linkedList = linkedList.next\n",
        "\n",
        "  return False\n",
        "\n",
        "  # optimal approach with reduced space complexicity\n",
        "\n",
        "  slow = head\n",
        "  fast = head\n",
        "\n",
        "  # Step 2: Traverse the linked list with\n",
        "  # the slow and fast pointers\n",
        "  while fast is not None and fast.next is not None:\n",
        "    # Move slow one step\n",
        "    slow = slow.next\n",
        "    # Move fast two steps\n",
        "    fast = fast.next.next\n",
        "\n",
        "    # Check if slow and fast pointers meet\n",
        "    if slow == fast:\n",
        "      return True  # Loop detected\n",
        "\n",
        "    # If fast reaches the end of the list,\n",
        "    # there is no loop\n",
        "  return False\n",
        "\n"
      ],
      "metadata": {
        "id": "wVgCm0GmiD1e"
      },
      "execution_count": null,
      "outputs": []
    },
    {
      "cell_type": "code",
      "source": [],
      "metadata": {
        "id": "riYWbmjVsr_w"
      },
      "execution_count": null,
      "outputs": []
    }
  ]
}