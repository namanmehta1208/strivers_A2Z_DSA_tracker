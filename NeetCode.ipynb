{
  "nbformat": 4,
  "nbformat_minor": 0,
  "metadata": {
    "colab": {
      "provenance": [],
      "authorship_tag": "ABX9TyMDzy98wYyEAxmbrfwCmAzC",
      "include_colab_link": true
    },
    "kernelspec": {
      "name": "python3",
      "display_name": "Python 3"
    },
    "language_info": {
      "name": "python"
    }
  },
  "cells": [
    {
      "cell_type": "markdown",
      "metadata": {
        "id": "view-in-github",
        "colab_type": "text"
      },
      "source": [
        "<a href=\"https://colab.research.google.com/github/namanmehta1208/strivers_A2Z_DSA_tracker/blob/main/NeetCode.ipynb\" target=\"_parent\"><img src=\"https://colab.research.google.com/assets/colab-badge.svg\" alt=\"Open In Colab\"/></a>"
      ]
    },
    {
      "cell_type": "code",
      "execution_count": null,
      "metadata": {
        "id": "XpBk6wtYYhRc"
      },
      "outputs": [],
      "source": [
        "# Array and Hash"
      ]
    },
    {
      "cell_type": "code",
      "source": [
        "\"\"\"\n",
        "one approach is to get a freq counter and return the values with the high\n",
        "key values and the numbers of such value should be equal to k\n",
        "however another appoach is to use bucket sort like below\n",
        "which would give us the TC of o(n)\n",
        "\"\"\"\n",
        "def topKFrequent(nums, k):\n",
        "\n",
        "  siz = len(nums)\n",
        "  if(siz == 1 and k == 1):\n",
        "      return nums\n",
        "  elif(siz == 2 and nums[0] != nums[1]):\n",
        "      return nums\n",
        "  elif(siz == 2):\n",
        "      return [nums[0]]\n",
        "\n",
        "  freq = {}\n",
        "  arr = [[] for i in range(siz + 1)]\n",
        "  nums.sort()\n",
        "\n",
        "  for num in nums:\n",
        "      freq[num] =  freq.get(num, 0) + 1\n",
        "\n",
        "  for num, count in freq.items():\n",
        "    arr[count].append(num)\n",
        "\n",
        "  res = []\n",
        "  for i in range(siz, 0, -1):\n",
        "    for n in arr[i]:\n",
        "      print('values in arr',i, ' = ', arr[i])\n",
        "      res.append(n)\n",
        "      if(len(res) == k):\n",
        "        return arr\n",
        "\n",
        "\n",
        "\n",
        "\n",
        "\n",
        "  # return [num for num, count in freq.items() if count > k]"
      ],
      "metadata": {
        "id": "ugySEQQBYmYs"
      },
      "execution_count": null,
      "outputs": []
    },
    {
      "cell_type": "code",
      "source": [
        "topKFrequent([3,0,1,0] ,1)"
      ],
      "metadata": {
        "colab": {
          "base_uri": "https://localhost:8080/"
        },
        "id": "E9wit6GGYyjE",
        "outputId": "d0b3ecb8-43dc-451a-e28a-1032800a0b1c"
      },
      "execution_count": null,
      "outputs": [
        {
          "output_type": "stream",
          "name": "stdout",
          "text": [
            "values in arr 2  =  [0]\n"
          ]
        },
        {
          "output_type": "execute_result",
          "data": {
            "text/plain": [
              "[0]"
            ]
          },
          "metadata": {},
          "execution_count": 82
        }
      ]
    },
    {
      "cell_type": "code",
      "source": [
        "topKFrequent([1,2,2,3,3,3], 2)"
      ],
      "metadata": {
        "colab": {
          "base_uri": "https://localhost:8080/"
        },
        "id": "YK1Vux5yaPDX",
        "outputId": "c3d58c3c-845e-4b69-8062-ad842b32a66d"
      },
      "execution_count": null,
      "outputs": [
        {
          "output_type": "stream",
          "name": "stdout",
          "text": [
            "values in arr 3  =  [3]\n",
            "values in arr 2  =  [2]\n"
          ]
        },
        {
          "output_type": "execute_result",
          "data": {
            "text/plain": [
              "[[], [1], [2], [3], [], [], []]"
            ]
          },
          "metadata": {},
          "execution_count": 85
        }
      ]
    },
    {
      "cell_type": "code",
      "source": [
        "# Group Anagrams (TBD)\n",
        "def groupAnagrams(strs):\n",
        "  strs.sort()\n",
        "  return strs"
      ],
      "metadata": {
        "id": "jjOIGykp-vHM"
      },
      "execution_count": null,
      "outputs": []
    },
    {
      "cell_type": "code",
      "source": [
        "groupAnagrams([\"act\",\"pots\",\"tops\",\"cat\",\"stop\",\"hat\"])"
      ],
      "metadata": {
        "colab": {
          "base_uri": "https://localhost:8080/"
        },
        "id": "Ozp-V3KV-xs4",
        "outputId": "471a6d7a-f7b7-43d1-e61e-478928df555e"
      },
      "execution_count": null,
      "outputs": [
        {
          "output_type": "execute_result",
          "data": {
            "text/plain": [
              "['act', 'cat', 'hat', 'pots', 'stop', 'tops']"
            ]
          },
          "metadata": {},
          "execution_count": 88
        }
      ]
    },
    {
      "cell_type": "code",
      "source": [
        "# Products of Array Except Self\n",
        "\"\"\"\n",
        "we first created an outputArr then we filled it with prefix\n",
        "multiplication values, prefix starts with 1, then 1 * 1 = 1\n",
        "then 1 * 2 = 2, 2* 3 = 6\n",
        "so our outputArr have [1, 1, 2, 6]\n",
        "ther we iterate to the orig array from backwords\n",
        "ppostFix = 1 by default\n",
        "outputArr have prefix so outputArr[3] = outputArr[3] * postFix\n",
        "postFix = postFix * nums[3]\n",
        "and so onnnn, simpleeeeee\n",
        "\"\"\"\n",
        "def productExceptSelf(nums):\n",
        "\n",
        "  preFix = 1\n",
        "  postFix = 1\n",
        "  outputArr = []\n",
        "\n",
        "  for num in nums:\n",
        "    outputArr.append(preFix)\n",
        "\n",
        "    preFix *= num\n",
        "\n",
        "\n",
        "  for i in range(len(nums) - 1, -1, -1):\n",
        "    outputArr[i] = postFix * outputArr[i]\n",
        "    postFix *= nums[i]\n",
        "\n",
        "\n",
        "  return outputArr\n"
      ],
      "metadata": {
        "id": "i3bFI6R2JmJv"
      },
      "execution_count": null,
      "outputs": []
    },
    {
      "cell_type": "code",
      "source": [
        "productExceptSelf([1, 2, 3, 4])"
      ],
      "metadata": {
        "colab": {
          "base_uri": "https://localhost:8080/"
        },
        "id": "_7tLA2jhJ3u7",
        "outputId": "76834fb2-1956-4864-c500-cca9e7c5fca8"
      },
      "execution_count": null,
      "outputs": [
        {
          "output_type": "execute_result",
          "data": {
            "text/plain": [
              "[24, 12, 8, 6]"
            ]
          },
          "metadata": {},
          "execution_count": 16
        }
      ]
    },
    {
      "cell_type": "code",
      "source": [
        "# Two Pointers"
      ],
      "metadata": {
        "id": "0DFZioVjsnaj"
      },
      "execution_count": null,
      "outputs": []
    },
    {
      "cell_type": "code",
      "source": [
        "# Palindrome\n",
        "def isPalindrome(s):\n",
        "  i, j = 0, len(s) - 1\n",
        "\n",
        "  while(i < j):\n",
        "\n",
        "    while i < j and not s[i].isalnum():\n",
        "      i += 1\n",
        "\n",
        "    while i < j and not s[j].isalnum():\n",
        "      j -= 1\n",
        "\n",
        "    if(s[i].lower() != s[j].lower()):\n",
        "      return False\n",
        "\n",
        "    i += 1\n",
        "    j -= 1\n",
        "\n",
        "  return True"
      ],
      "metadata": {
        "id": "YzlBJZg7sqJC"
      },
      "execution_count": null,
      "outputs": []
    },
    {
      "cell_type": "code",
      "source": [
        "isPalindrome(\"Was it a car or a cat I saw?\")"
      ],
      "metadata": {
        "colab": {
          "base_uri": "https://localhost:8080/"
        },
        "id": "mHxrufDgsvgf",
        "outputId": "90b3c370-eb8d-4ef2-9b11-747d7b379f37"
      },
      "execution_count": null,
      "outputs": [
        {
          "output_type": "execute_result",
          "data": {
            "text/plain": [
              "True"
            ]
          },
          "metadata": {},
          "execution_count": 8
        }
      ]
    },
    {
      "cell_type": "code",
      "source": [
        "# Container With Most Water\n",
        "\"\"\"\n",
        "so here we used two pointer approach, starting from 0 to end, we calculate\n",
        "the area using rectangle formula then we shift the pointers comparing there\n",
        "heights and calculating area with every shift but keeping the max area and\n",
        "returning at the end, easy!!!!!!!!!!11\n",
        "\"\"\"\n",
        "def maxArea(heights):\n",
        "  i, j = 0, len(heights) - 1\n",
        "  area = 0\n",
        "\n",
        "  while(i < j):\n",
        "    area = max(area, min(heights[i], heights[j]) * ((j - i)))\n",
        "    # print('area = ', area)\n",
        "    # print(min(heights[i], heights[j]) * ((j - i)))\n",
        "    if(heights[i] < heights[j]):\n",
        "      i += 1\n",
        "    elif(heights[i] > heights[j]):\n",
        "      j -= 1\n",
        "    else:\n",
        "      i += 1\n",
        "\n",
        "  return area"
      ],
      "metadata": {
        "id": "WvSUCfUOV0IE"
      },
      "execution_count": 1,
      "outputs": []
    },
    {
      "cell_type": "code",
      "source": [
        "maxArea([1,7,2,5,4,7,3,6])"
      ],
      "metadata": {
        "colab": {
          "base_uri": "https://localhost:8080/"
        },
        "id": "XKToykC2V2si",
        "outputId": "b077a7c6-a6b5-4b79-b6eb-9fd85d25c8e7"
      },
      "execution_count": 2,
      "outputs": [
        {
          "output_type": "execute_result",
          "data": {
            "text/plain": [
              "36"
            ]
          },
          "metadata": {},
          "execution_count": 2
        }
      ]
    },
    {
      "cell_type": "code",
      "source": [
        "# Two Integer Sum II\n",
        "def twoSum(nums, target):\n",
        "  i, j = 0, len(nums) - 1\n",
        "  count = 0\n",
        "\n",
        "  while(i < j):\n",
        "    count = nums[i] + nums[j]\n",
        "\n",
        "    if(count == target):\n",
        "      return [i + 1, j + 1]\n",
        "    elif(count > target):\n",
        "      j -= 1\n",
        "      count = 0\n",
        "    else:\n",
        "      i += 1\n",
        "      count = 0"
      ],
      "metadata": {
        "id": "oyY9JiEnWGoI"
      },
      "execution_count": 3,
      "outputs": []
    },
    {
      "cell_type": "code",
      "source": [
        "twoSum([-5,-3,0,2,4,6,8], 5)"
      ],
      "metadata": {
        "colab": {
          "base_uri": "https://localhost:8080/"
        },
        "id": "hYluiaydWOaq",
        "outputId": "d2e0154f-937b-41b8-a7bc-6e277bcee923"
      },
      "execution_count": 4,
      "outputs": [
        {
          "output_type": "execute_result",
          "data": {
            "text/plain": [
              "[2, 7]"
            ]
          },
          "metadata": {},
          "execution_count": 4
        }
      ]
    }
  ]
}