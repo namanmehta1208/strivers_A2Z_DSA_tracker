{
  "nbformat": 4,
  "nbformat_minor": 0,
  "metadata": {
    "colab": {
      "provenance": [],
      "authorship_tag": "ABX9TyPy1BN/FiqHzjVWbFJTI+yi",
      "include_colab_link": true
    },
    "kernelspec": {
      "name": "python3",
      "display_name": "Python 3"
    },
    "language_info": {
      "name": "python"
    }
  },
  "cells": [
    {
      "cell_type": "markdown",
      "metadata": {
        "id": "view-in-github",
        "colab_type": "text"
      },
      "source": [
        "<a href=\"https://colab.research.google.com/github/namanmehta1208/strivers_A2Z_DSA_tracker/blob/main/Lec1_Learn_1D_LL.ipynb\" target=\"_parent\"><img src=\"https://colab.research.google.com/assets/colab-badge.svg\" alt=\"Open In Colab\"/></a>"
      ]
    },
    {
      "cell_type": "code",
      "source": [
        "class ListNode:\n",
        "    def __init__(self, val=0, next=None):\n",
        "        self.val = val\n",
        "        self.next = next\n",
        "\n",
        "    def __str__(self):\n",
        "      return str(self.val)"
      ],
      "metadata": {
        "id": "zGgzQQn6sxde"
      },
      "execution_count": null,
      "outputs": []
    },
    {
      "cell_type": "code",
      "source": [
        "# Creating linked List, we start with the head first\n",
        "Head = ListNode(2)\n",
        "\n",
        "a = ListNode(3)\n",
        "b = ListNode(4)\n",
        "c = ListNode(5)\n",
        "\n",
        "Head.next = a\n",
        "a.next = b\n",
        "b.next = c"
      ],
      "metadata": {
        "id": "GxQQ36zFPAga"
      },
      "execution_count": null,
      "outputs": []
    },
    {
      "cell_type": "code",
      "source": [
        "# Inserting at the head\n",
        "newValue = ListNode(1)\n",
        "newValue.next = Head\n",
        "Head = newValue"
      ],
      "metadata": {
        "id": "fhcEZG-5YYGC"
      },
      "execution_count": null,
      "outputs": []
    },
    {
      "cell_type": "code",
      "source": [
        "ll = Head\n",
        "\n",
        "while ll:\n",
        "  print(ll)\n",
        "  ll = ll.next"
      ],
      "metadata": {
        "colab": {
          "base_uri": "https://localhost:8080/"
        },
        "id": "D4ttALEoQhv6",
        "outputId": "890efc2e-b552-4465-f75e-55e095127907"
      },
      "execution_count": null,
      "outputs": [
        {
          "output_type": "stream",
          "name": "stdout",
          "text": [
            "1\n",
            "2\n",
            "3\n",
            "4\n",
            "5\n"
          ]
        }
      ]
    },
    {
      "cell_type": "code",
      "source": [
        "# deletion of the head\n",
        "Head.next = a"
      ],
      "metadata": {
        "id": "zP7o8n_na13L"
      },
      "execution_count": null,
      "outputs": []
    },
    {
      "cell_type": "code",
      "source": [
        "ll = Head\n",
        "\n",
        "while ll:\n",
        "  print(ll)\n",
        "  ll = ll.next"
      ],
      "metadata": {
        "id": "szslQwb1b639",
        "outputId": "884d6d88-7936-4c6b-d4c1-d3117328a1ec",
        "colab": {
          "base_uri": "https://localhost:8080/"
        }
      },
      "execution_count": null,
      "outputs": [
        {
          "output_type": "stream",
          "name": "stdout",
          "text": [
            "1\n",
            "3\n",
            "4\n",
            "5\n"
          ]
        }
      ]
    }
  ]
}